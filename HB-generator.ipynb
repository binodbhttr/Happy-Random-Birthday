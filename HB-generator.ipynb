{
 "cells": [
  {
   "cell_type": "code",
   "execution_count": 4,
   "id": "b8bc5e1a",
   "metadata": {},
   "outputs": [],
   "source": [
    "import numpy as np"
   ]
  },
  {
   "cell_type": "code",
   "execution_count": 56,
   "id": "9ace96e7",
   "metadata": {},
   "outputs": [],
   "source": [
    "class Person(object):\n",
    "    def __init__(self):\n",
    "        pass\n",
    "    \n",
    "class Attributes(Person):\n",
    "    \n",
    "    def __init__(self, name, gender, relation):\n",
    "        \"\"\"\n",
    "        Function to initialize the class\n",
    "        \"\"\"\n",
    "        # let's initalize it's parent class (empty for now because it is a blank class)\n",
    "        super().__init__()\n",
    "        self.name = name # name of the person\n",
    "        self.gender = gender # gender: female/male/non-binary\n",
    "        self.relation = relation # relation: friend/sister/cousin\n",
    "        self.fav_food = 0 \n",
    "        self.fav_animal = 0 \n",
    "        self.fav_activity = 0\n",
    "\n",
    "\n",
    "    def Fav_food(self, food):\n",
    "        \"\"\"\n",
    "        Function that updates favorite food information \n",
    "        \"\"\"\n",
    "        #assert type(food) == str\n",
    "        print(type(food))\n",
    "        self.fav_food = food \n",
    "    \n",
    "    def Fav_animal(animal):\n",
    "        \"\"\"\n",
    "        Function that updates favorite animal information \n",
    "        \"\"\"\n",
    "        self.fav_animal = animal \n",
    "    \n",
    "    def Fav_activity(activity):\n",
    "        \"\"\"\n",
    "        Function that updates favorite activity information \n",
    "        \"\"\"\n",
    "        self.fav_activity = activity\n",
    "        \n",
    "def HappyBirthday(self):\n",
    "    assert type(self.name) == str \n",
    "    assert type(self.relation) == str\n",
    "    assert type(self.fav_activity) == str \n",
    "    assert type(self.fav_animal) == str\n",
    "    assert type(se)\n",
    "    Hbday = \"Dear \" + self.name + \", you're a great \" + self.relation + \"!, and you deserve the BEST day ever for your B-day. The world is incomplete without you, who would pet \" + self.fav_animal + \" like you do? Who would eat the \" + self.fav_food + \" leftovers like you do? and finally, who will inspire the \" + self.fav_activity + \" enthusiasts like you do? Stay alive. And keep being YOU <3 love xoxo\"\n",
    "    return Hbday"
   ]
  },
  {
   "cell_type": "code",
   "execution_count": 57,
   "id": "d51c6c6b",
   "metadata": {},
   "outputs": [],
   "source": [
    "Paula = Attributes(\"Paula\",\"female\",\"sister\")\n",
    "Paula.fav_food = \"Spaghetti\"\n",
    "Paula.fav_animal = \"little dogies\"\n",
    "Paula.fav_activity = \"drawing\""
   ]
  },
  {
   "cell_type": "code",
   "execution_count": 58,
   "id": "c2e02341",
   "metadata": {},
   "outputs": [
    {
     "data": {
      "text/plain": [
       "\"Dear Paula, you're a great sister!, and you deserve the BEST day ever for your B-day. The world is incomplete without you, who would pet little dogies like you do? Who would eat the Spaghetti leftovers like you do? and finally, who will inspire the drawing enthusiasts like you do? Stay alive. And keep being YOU <3 love xoxo\""
      ]
     },
     "execution_count": 58,
     "metadata": {},
     "output_type": "execute_result"
    }
   ],
   "source": [
    "HappyBirthday(Paula)"
   ]
  },
  {
   "cell_type": "code",
   "execution_count": 24,
   "id": "9c35a396",
   "metadata": {},
   "outputs": [
    {
     "data": {
      "text/plain": [
       "9"
      ]
     },
     "execution_count": 24,
     "metadata": {},
     "output_type": "execute_result"
    }
   ],
   "source": [
    "Paula.fav_food"
   ]
  },
  {
   "cell_type": "code",
   "execution_count": 22,
   "id": "e828468b",
   "metadata": {},
   "outputs": [
    {
     "data": {
      "text/plain": [
       "str"
      ]
     },
     "execution_count": 22,
     "metadata": {},
     "output_type": "execute_result"
    }
   ],
   "source": [
    "type(\"hello\")"
   ]
  },
  {
   "cell_type": "code",
   "execution_count": null,
   "id": "99b7af3c",
   "metadata": {},
   "outputs": [],
   "source": []
  }
 ],
 "metadata": {
  "kernelspec": {
   "display_name": "Python 3",
   "language": "python",
   "name": "python3"
  },
  "language_info": {
   "codemirror_mode": {
    "name": "ipython",
    "version": 3
   },
   "file_extension": ".py",
   "mimetype": "text/x-python",
   "name": "python",
   "nbconvert_exporter": "python",
   "pygments_lexer": "ipython3",
   "version": "3.9.1"
  }
 },
 "nbformat": 4,
 "nbformat_minor": 5
}
